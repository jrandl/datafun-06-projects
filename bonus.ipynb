{
 "cells": [
  {
   "cell_type": "markdown",
   "metadata": {},
   "source": [
    "# Bonus\n",
    "## Author: Josiah Randleman\n",
    "## Date: 9/27/2023"
   ]
  },
  {
   "cell_type": "markdown",
   "metadata": {},
   "source": [
    "---"
   ]
  },
  {
   "cell_type": "markdown",
   "metadata": {},
   "source": [
    "## New Python Library Used: chardet"
   ]
  },
  {
   "cell_type": "markdown",
   "metadata": {},
   "source": [
    "For this bonus, I chose the Python Library chardet. I chose this library because it is a character encoding detection library. This library is extremely useful becuase it can be used to determine what the data encoding is for a particular dataset. You can use this library on text files, excel files, web pages, emails, etc. "
   ]
  },
  {
   "cell_type": "markdown",
   "metadata": {},
   "source": [
    "```bash\n",
    "import pandas as pd\n",
    "import chardet\n",
    "\n",
    "with open('fraud_insurance_claims.csv', 'rb') as f:\n",
    "    result = chardet.detect(f.read())\n",
    "    \n",
    "insurance = pd.read_csv('fraud_insurance_claims.csv', encoding=result['encoding'])\n",
    "```"
   ]
  },
  {
   "cell_type": "markdown",
   "metadata": {},
   "source": [
    "In the above example, I am using the chardet library to determine the encoding of the fraud_insurance_claims.csv dataset. This library determines the encoding and it translates that information to the Pandas Dataframe and allows it to easily open and read the dataset. This makes it easy and streamlined to open any file in Python. Some text files are encoded in UTF-8 and some are encoded in Windows-1252, etc. If your read function for your csv file is hardcoded for one file type, if it is not programmed for that particular format, you can run into errors when opening other files. Using this library, it determines the file encoding and translates that into Pandas to make it easy and streamlined for any data types that you come across. I try to use this library when applicable to my applications. I highly recommend this Python Library."
   ]
  }
 ],
 "metadata": {
  "kernelspec": {
   "display_name": "Python 3",
   "language": "python",
   "name": "python3"
  },
  "language_info": {
   "codemirror_mode": {
    "name": "ipython",
    "version": 3
   },
   "file_extension": ".py",
   "mimetype": "text/x-python",
   "name": "python",
   "nbconvert_exporter": "python",
   "pygments_lexer": "ipython3",
   "version": "3.11.4"
  },
  "orig_nbformat": 4
 },
 "nbformat": 4,
 "nbformat_minor": 2
}
